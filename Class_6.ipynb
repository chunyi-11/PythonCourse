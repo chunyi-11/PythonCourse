{
 "cells": [
  {
   "cell_type": "markdown",
   "id": "5dd2916c",
   "metadata": {},
   "source": [
    "<a href=\"https://colab.research.google.com/github/Li-Murong/PythonCourse/blob/main/Class_6.ipynb\" target=\"_parent\"><img src=\"https://colab.research.google.com/assets/colab-badge.svg\" alt=\"Open In Colab\"/></a>\n"
   ]
  },
  {
   "cell_type": "markdown",
   "id": "b82d433c",
   "metadata": {},
   "source": [
    "# 面向对象编程 Object-Oriented Programming\n"
   ]
  },
  {
   "cell_type": "markdown",
   "id": "734afb4b",
   "metadata": {},
   "source": [
    "## 核心概念\n",
    "\n",
    "| **概念** | **英文术语**  | **含义**                         |\n",
    "| -------- | ------------- | -------------------------------- |\n",
    "| 类       | Class         | 模板或蓝图，定义对象的属性和行为 |\n",
    "| 对象     | Object        | 类的实例，实际存在的具体事物     |\n",
    "| 封装     | Encapsulation | 隐藏内部实现，仅暴露必要接口     |\n",
    "| 继承     | Inheritance   | 子类继承父类的属性和方法         |\n",
    "| 多态     | Polymorphism  | 不同对象对同一消息作出不同响应   |\n",
    "| 抽象     | Abstraction   | 提取公共特征，忽略细节           |\n"
   ]
  },
  {
   "cell_type": "markdown",
   "id": "106f18e7",
   "metadata": {},
   "source": [
    "## 类 Class & 对象 Object\n"
   ]
  },
  {
   "cell_type": "markdown",
   "id": "36fbf168",
   "metadata": {},
   "source": [
    "- **类**: 可以理解为把一些反复调用的数据和函数绑定到一起的方法。\n",
    "- **对象(实例)**: 可以把类看成只是一个定义，而对象则是定义的具体表现。\n",
    "\n",
    "  举例：我们定义 _**人**_ 是一个类，_**小明**_ 是人的对象(实例)\n"
   ]
  },
  {
   "cell_type": "code",
   "execution_count": 1,
   "id": "de6afefe",
   "metadata": {},
   "outputs": [
    {
     "name": "stdout",
     "output_type": "stream",
     "text": [
      "狗叫了一声。\n",
      "猫叫了一声。\n"
     ]
    }
   ],
   "source": [
    "# 类的定义\n",
    "class Animal:  # 类的名字叫Animal\n",
    "    # _init__方法是类的构造函数，用于初始化实例的属性，这是固定的写法。\n",
    "    # 只可以在类中定义一次，且只能内部调用。\n",
    "    def __init__(self, name):  # 初始化，name是传入的参数\n",
    "        # self是类的实例(也可以理解为对实例的调用)，必须传入。\n",
    "        self.name = name  # 实例的属性，name是实例的名字\n",
    "\n",
    "    def speak(self):  # 定义一个公有方法speak\n",
    "        print(f\"{self.name}叫了一声。\")\n",
    "\n",
    "    # 以下内容在后续继承部分会详细讲解\n",
    "    def _move(self):  # 定义一个保护方法，可被继承\n",
    "        print(f\"{self.name}在移动。\")\n",
    "\n",
    "    def __anounce(self):  # 定义一个私有方法，不能被继承\n",
    "        print(f\"这是Animal类的私有方法。\")\n",
    "\n",
    "\n",
    "dog = Animal(\"狗\")  # 创建一个Animal类的实例，名字为狗\n",
    "dog.speak()  # 调用实例的speak方法\n",
    "\n",
    "cat = Animal(\"猫\")  # 创建一个Animal类的实例，名字为猫\n",
    "cat.speak()  # 调用实例的speak方法"
   ]
  },
  {
   "cell_type": "markdown",
   "id": "f99000f4",
   "metadata": {},
   "source": [
    "1. 以上代码定义了一个 Animal 类，并创建了两个实例：狗和猫。\n",
    "\n",
    "2. 每个实例都有一个名字属性，并且可以调用 speak 方法来输出它们的叫声。\n"
   ]
  },
  {
   "cell_type": "markdown",
   "id": "420b016e",
   "metadata": {},
   "source": [
    "## 封装 Encapsulation\n"
   ]
  },
  {
   "cell_type": "markdown",
   "id": "3b2d0313",
   "metadata": {},
   "source": [
    "- **场景**: 我们定义一个类是学生，学生有名字，学号，年级和成绩。名字和学号可以直接查询访问，年级会改变，成绩是比较隐私的，不能被随意访问。\n",
    "\n",
    "- **解决方法**: 把一些属性进行隐藏，保护起来，只能用特定方法才能访问。\n"
   ]
  },
  {
   "cell_type": "markdown",
   "id": "9d5aea76",
   "metadata": {},
   "source": [
    "**变量命名方式**\n",
    "| **前缀** | **含义** | **示例** | **是否可直接访问** |\n",
    "| -------- | -------- | -------- | --------------------- |\n",
    "| 无 | 公有 | name | ✅ 是 |\n",
    "| \\_ | 受保护 | \\_name | ✅ 是（不推荐） |\n",
    "| \\_\\_ | 私有 | \\_\\_name | ❌ 否（需要特殊方式） |\n"
   ]
  },
  {
   "cell_type": "code",
   "execution_count": 2,
   "id": "66d9d5f9",
   "metadata": {},
   "outputs": [
    {
     "name": "stdout",
     "output_type": "stream",
     "text": [
      "小明\n",
      "小明\n",
      "2023001\n",
      "3\n",
      "3\n",
      "4\n",
      "5\n",
      "90\n",
      "95\n",
      "--------------------\n",
      "小红\n",
      "2023002\n",
      "3\n",
      "4\n",
      "0\n",
      "85\n"
     ]
    }
   ],
   "source": [
    "class Student:  # 定义一个Student类\n",
    "    def __init__(\n",
    "        self, name, id, grade, score=0\n",
    "    ):  # 初始化方法，传入名字，学号，年级和分数\n",
    "        # self是类的实例(也可以理解为对实例的调用)，必须传入。\n",
    "        self.name = name  # 实例的属性，名字 公有命名\n",
    "        self.id = id  # 实例的属性，学号 公有命名\n",
    "        self._grade = grade  # 实例的属性，年级 保护命名\n",
    "        self.__score = score  # 实例的属性，分数 私有命名\n",
    "\n",
    "    def get_name(self):  # 获取名字\n",
    "        return self.name\n",
    "\n",
    "    def get_id(self):  # 获取学号\n",
    "        return self.id\n",
    "\n",
    "    def get_grade(self):  # 获取年级\n",
    "        return self._grade\n",
    "\n",
    "    def set_grade(self, grade):  # 设置年级\n",
    "        self._grade = grade\n",
    "\n",
    "    def get_score(self):  # 获取分数\n",
    "        return self.__score\n",
    "\n",
    "    def set_score(self, score):  # 设置分数\n",
    "        self.__score = score\n",
    "\n",
    "\n",
    "xiaoming = Student(\"小明\", \"2023001\", 3, 90)  # 创建一个Student类的实例，名字为小明\n",
    "xiaohong = Student(\"小红\", \"2023002\", 3)  # 创建一个Student类的实例，名字为小红\n",
    "print(xiaoming.get_name())  # 获取小明的名字\n",
    "print(xiaoming.name)  # 直接获取小明的名字\n",
    "print(xiaoming.get_id())  # 获取小明的学号\n",
    "print(xiaoming.get_grade())  # 获取小明的年级\n",
    "print(xiaoming._grade)  # 直接获取小明的年级（不推荐）\n",
    "xiaoming.set_grade(4)  # 设置小明的年级为4\n",
    "print(xiaoming.get_grade())  # 获取小明的年级\n",
    "xiaoming._grade = 5  # 直接设置小明的年级为5（不推荐）\n",
    "print(xiaoming._grade)  # 直接获取小明的年级（不推荐）\n",
    "print(xiaoming.get_score())  # 获取小明的分数\n",
    "\n",
    "# 下面一行自己去掉注释试一次\n",
    "# print(xiaoming.__score)  # 直接获取小明的分数（报错，私有属性不能直接访问）\n",
    "\n",
    "xiaoming.set_score(95)  # 设置小明的分数为95\n",
    "print(xiaoming.get_score())  # 获取小明的分数\n",
    "\n",
    "print(\"-\" * 20)  # 打印分隔线\n",
    "\n",
    "print(xiaohong.get_name())  # 获取小红的名字\n",
    "print(xiaohong.get_id())  # 获取小红的学号\n",
    "print(xiaohong.get_grade())  # 获取小红的年级\n",
    "xiaohong.set_grade(4)  # 设置小红的年级为4\n",
    "print(xiaohong.get_grade())  # 获取小红的年级\n",
    "print(xiaohong.get_score())  # 获取小红的分数\n",
    "xiaohong.set_score(85)  # 设置小红的分数为85\n",
    "print(xiaohong.get_score())  # 获取小红的分数"
   ]
  },
  {
   "cell_type": "markdown",
   "id": "cd767907",
   "metadata": {},
   "source": [
    "## 继承 Inheritance\n"
   ]
  },
  {
   "cell_type": "markdown",
   "id": "d8641964",
   "metadata": {},
   "source": [
    "我们上面写了一个 Animal 类，相对比较笼统，只是说动物都会叫，但是没有解决不同动物叫声都不同的问题。这时候，我们就可以用**继承**来解决这个问题：因为它们又都是动物，所以可以继承 Animal 这个类的共性（都有名字），把不同的功能写出来就好：定义不同的叫声。\n"
   ]
  },
  {
   "cell_type": "code",
   "execution_count": 3,
   "id": "9bceb48f",
   "metadata": {},
   "outputs": [
    {
     "name": "stdout",
     "output_type": "stream",
     "text": [
      "大黄叫了一声。\n",
      "大黄汪汪。\n",
      "大黄吃骨头\n",
      "大黄\n"
     ]
    }
   ],
   "source": [
    "class Dog(Animal):  # 继承Animal类，Animal是父类，Dog是子类\n",
    "    def __init__(self, name):\n",
    "        super().__init__(name)  # super()是一个内置函数，用于调用父类的方法\n",
    "\n",
    "    def speak(self):  # 这是方法重写(Override)\n",
    "        super().speak()  # 这里调用父类的speak方法，也可以不调用父类的方法\n",
    "        # 但不可self.speak()，否则会死循环\n",
    "        return print(f\"{self.name}汪汪。\")\n",
    "\n",
    "    def eat(self):  # 新添的方法，Dog类自身的特色\n",
    "        print(f\"{self.name}吃骨头\")\n",
    "\n",
    "\n",
    "dahuang = Dog(\"大黄\")\n",
    "dahuang.speak()\n",
    "dahuang.eat()\n",
    "print(dahuang.name)"
   ]
  },
  {
   "cell_type": "markdown",
   "id": "62b37bd5",
   "metadata": {},
   "source": [
    "除了对变量有不同的命名和使用方式，相应的函数也有，在**继承**中用得较多。\n",
    "\n",
    "**方法(函数)命名方式**\n",
    "| **名称** | **写法** | **访问范围** | **是否能强行访问** | **常用场景** |\n",
    "| -------- | ---------- | ---------------- | ------------------ | ---------------- |\n",
    "| 公有方法 | method | 类内、子类、外部 | ✅ 可以 | 公开使用接口 |\n",
    "| 保护方法 | \\_method | 类内、子类 | ✅ 可以（不推荐） | 内部使用、**继承**用 |\n",
    "| 私有方法 | \\_\\_method | 仅类内部 | ✅ 可以（强制） | 完全隐藏内部逻辑 |\n",
    "| 特殊方法 | \\_\\_method\\_\\_ | 仅类内部 | ❌ 不可以 | 系统特殊用途 |\n"
   ]
  },
  {
   "cell_type": "code",
   "execution_count": 4,
   "id": "0aa93684",
   "metadata": {},
   "outputs": [
    {
     "name": "stdout",
     "output_type": "stream",
     "text": [
      "小黑叫了一声。\n",
      "小黑汪汪。\n",
      "小黑吃骨头\n",
      "小黑在移动。\n",
      "小黑飞奔。\n",
      "小黑在移动。\n",
      "这是Animal类的私有方法。\n",
      "动物在移动。\n",
      "这是Animal类的私有方法。\n"
     ]
    }
   ],
   "source": [
    "class Dog(Animal):\n",
    "    def __init__(self, name):\n",
    "        super().__init__(name)\n",
    "\n",
    "    def speak(self):\n",
    "        super().speak()\n",
    "        return print(f\"{self.name}汪汪。\")\n",
    "\n",
    "    def eat(self):\n",
    "        print(f\"{self.name}吃骨头\")\n",
    "\n",
    "    def run(self):\n",
    "        super()._move()  # 调用父类的_move方法\n",
    "        print(f\"{self.name}飞奔。\")\n",
    "\n",
    "    def testanounce(self):\n",
    "        super().__anounce()  # 无法继承父类的私有方法\n",
    "\n",
    "\n",
    "xiaohei = Dog(\"小黑\")\n",
    "xiaohei.speak()\n",
    "xiaohei.eat()\n",
    "xiaohei.run()\n",
    "xiaohei._move()  # 直接调用父类的_move方法\n",
    "xiaohei._Animal__anounce()  # 直接调用父类的__anounce方法(不推荐)\n",
    "\n",
    "# 下面一行自己去掉注释试一次\n",
    "# xiaohei.testanounce()  # 调用父类的__anounce方法，会报错\n",
    "\n",
    "dongwu = Animal(\"动物\")  # 创建一个Animal类的实例，名字为动物\n",
    "dongwu._move()  # 调用_move方法\n",
    "dongwu._Animal__anounce()  # 调用__anounce方法(不推荐)"
   ]
  },
  {
   "cell_type": "markdown",
   "id": "70e3dfe2",
   "metadata": {},
   "source": [
    "## 多态 Polymorphism\n"
   ]
  },
  {
   "cell_type": "markdown",
   "id": "a6f79026",
   "metadata": {},
   "source": [
    "一个父类可以有多个子类\n"
   ]
  },
  {
   "cell_type": "code",
   "execution_count": 5,
   "id": "0d24fdb1",
   "metadata": {},
   "outputs": [
    {
     "name": "stdout",
     "output_type": "stream",
     "text": [
      "小黑叫了一声。\n",
      "小黑汪汪。\n",
      "小黑吃骨头\n",
      "小黑在移动。\n",
      "小黑飞奔。\n",
      "小黑在移动。\n",
      "这是Animal类的私有方法。\n",
      "咪咪叫了一声。\n",
      "咪咪喵喵。\n",
      "咪咪吃鱼\n",
      "咪咪在移动。\n",
      "咪咪走猫步。\n",
      "咪咪在移动。\n",
      "这是Animal类的私有方法。\n",
      "雀仔叫了一声。\n",
      "雀仔叽叽。\n",
      "雀仔吃虫子\n",
      "雀仔在移动。\n",
      "雀仔飞翔。\n",
      "雀仔在移动。\n",
      "这是Animal类的私有方法。\n"
     ]
    }
   ],
   "source": [
    "class Cat(Animal):\n",
    "    def __init__(self, name):\n",
    "        super().__init__(name)\n",
    "\n",
    "    def speak(self):\n",
    "        super().speak()\n",
    "        return print(f\"{self.name}喵喵。\")\n",
    "\n",
    "    def eat(self):\n",
    "        print(f\"{self.name}吃鱼\")\n",
    "\n",
    "    def run(self):\n",
    "        super()._move()  # 调用父类的_move方法\n",
    "        print(f\"{self.name}走猫步。\")\n",
    "\n",
    "    def testanounce(self):\n",
    "        super().__anounce()  # 无法继承父类的私有方法\n",
    "\n",
    "\n",
    "class Bird(Animal):\n",
    "    def __init__(self, name):\n",
    "        super().__init__(name)\n",
    "\n",
    "    def speak(self):\n",
    "        super().speak()\n",
    "        return print(f\"{self.name}叽叽。\")\n",
    "\n",
    "    def eat(self):\n",
    "        print(f\"{self.name}吃虫子\")\n",
    "\n",
    "    def run(self):\n",
    "        super()._move()  # 调用父类的_move方法\n",
    "        print(f\"{self.name}飞翔。\")\n",
    "\n",
    "    def testanounce(self):\n",
    "        super().__anounce()  # 无法继承父类的私有方法\n",
    "\n",
    "\n",
    "mimi = Cat(\"咪咪\")\n",
    "\n",
    "quezai = Bird(\"雀仔\")\n",
    "\n",
    "\n",
    "def animal_test(animal):  # 定义一个函数，传入一个Animal类的实例\n",
    "    animal.speak()  # 调用实例的speak方法\n",
    "    animal.eat()  # 调用实例的eat方法\n",
    "    animal.run()  # 调用实例的run方法\n",
    "    animal._move()  # 调用实例的_move方法\n",
    "    animal._Animal__anounce()  # 调用实例的__anounce方法(不推荐)\n",
    "\n",
    "\n",
    "animal_test(xiaohei)  # 调用函数，传入小黑的实例\n",
    "animal_test(mimi)  # 调用函数，传入咪咪的实例\n",
    "animal_test(quezai)  # 调用函数，传入雀仔的实例"
   ]
  },
  {
   "cell_type": "markdown",
   "id": "5f052761",
   "metadata": {},
   "source": [
    "## 抽象 Abstraction\n"
   ]
  },
  {
   "cell_type": "markdown",
   "id": "a413b148",
   "metadata": {},
   "source": [
    "### 装饰器 Decoration\n"
   ]
  },
  {
   "cell_type": "markdown",
   "id": "ccddab80",
   "metadata": {},
   "source": [
    "- **装饰器**是用`@`调用包装器的语法糖。\n",
    "- 语法糖：使用 `@decorator` 替代手动赋值 `func = decorator(func)`。\n",
    "- 本质：装饰器是一个**函数**，它接受一个 **_函数/类_** 作为参数，并返回一个新的 **_函数/类_**。\n",
    "\n",
    "  可以理解成给函数套上一个包装，定义好包装后，用@可以快速打包函数。\n"
   ]
  },
  {
   "cell_type": "markdown",
   "id": "4a9d8ad6",
   "metadata": {},
   "source": [
    "#### 基础用法\n"
   ]
  },
  {
   "cell_type": "code",
   "execution_count": 6,
   "id": "d313f721",
   "metadata": {},
   "outputs": [
    {
     "name": "stdout",
     "output_type": "stream",
     "text": [
      "函数调用前的操作...\n",
      "同志，你好！\n",
      "函数调用后的操作...\n"
     ]
    }
   ],
   "source": [
    "# 装饰器函数\n",
    "def decorator(func):  # decorator是装饰器的名字，可以自定义。func是传入的函数\n",
    "    def wrapper():  # 装饰器函数的内部函数，wrapper是内部函数的名字，可以自定义\n",
    "        print(\"函数调用前的操作...\")\n",
    "        func()\n",
    "        print(\"函数调用后的操作...\")\n",
    "\n",
    "    return wrapper  # 返回内部函数的引用\n",
    "\n",
    "\n",
    "@decorator  # 去装饰下面的函数\n",
    "def greet():  # 被装饰的函数，greet是函数的名字，可以自定义，被传入装饰器\n",
    "    print(\"同志，你好！\")\n",
    "\n",
    "\n",
    "greet()"
   ]
  },
  {
   "cell_type": "markdown",
   "id": "68b2a8f7",
   "metadata": {},
   "source": [
    "#### 高阶用法\n"
   ]
  },
  {
   "cell_type": "markdown",
   "id": "05417a27",
   "metadata": {},
   "source": [
    "1. 带参数的装饰器：装饰器需要接受额外的参数，需要进一步嵌套\n"
   ]
  },
  {
   "cell_type": "code",
   "execution_count": 7,
   "id": "ab7d8112",
   "metadata": {},
   "outputs": [
    {
     "name": "stdout",
     "output_type": "stream",
     "text": [
      "小明对小红说：\n",
      "Hello!\n"
     ]
    }
   ],
   "source": [
    "def decorator_args(arg1, arg2):  # 装饰器函数，接收参数\n",
    "    def decorator(func):  # 装饰器函数的内部函数，接收被装饰的函数\n",
    "        def wrapper():  # 装饰器函数的内部函数，wrapper是内部函数的名字，可以自定义\n",
    "            print(f\"{arg1}对{arg2}说：\")\n",
    "            func()\n",
    "\n",
    "        return wrapper\n",
    "\n",
    "    return decorator\n",
    "\n",
    "\n",
    "@decorator_args(\"小明\", \"小红\")\n",
    "def say_hello():\n",
    "    print(\"Hello!\")\n",
    "\n",
    "\n",
    "say_hello()"
   ]
  },
  {
   "cell_type": "code",
   "execution_count": 8,
   "id": "ba1f0a8a",
   "metadata": {},
   "outputs": [
    {
     "name": "stdout",
     "output_type": "stream",
     "text": [
      "Hi!\n",
      "Hi!\n",
      "Hi!\n"
     ]
    }
   ],
   "source": [
    "# 例子\n",
    "def repeat(num):  # 装饰器函数，接收参数\n",
    "    def decorator(func):  # 装饰器函数的内部函数，接收被装饰的函数\n",
    "        def wrapper():  # 装饰器函数的内部函数，wrapper是内部函数的名字，可以自定义\n",
    "            for _ in range(num):  # 循环num次\n",
    "                func()  # 调用被装饰的函数\n",
    "\n",
    "        return wrapper\n",
    "\n",
    "    return decorator\n",
    "\n",
    "\n",
    "@repeat(3)  # 装饰器，重复3次\n",
    "def say_hi():\n",
    "    print(\"Hi!\")\n",
    "\n",
    "\n",
    "say_hi()  # 调用被装饰的函数\""
   ]
  },
  {
   "cell_type": "markdown",
   "id": "692f1d75",
   "metadata": {},
   "source": [
    "2. 装饰有参数的函数：装饰器内部的 wrapper 函数需要能够接收这些参数。\n"
   ]
  },
  {
   "cell_type": "code",
   "execution_count": 9,
   "id": "63ff67e9",
   "metadata": {},
   "outputs": [
    {
     "name": "stdout",
     "output_type": "stream",
     "text": [
      "('小明', '小红')\n",
      "{'time': 10}\n",
      "拨号中\n",
      "小明和小红通话。\n",
      "通话了10分钟\n",
      "通话结束\n"
     ]
    }
   ],
   "source": [
    "def decorator(func):  # 装饰器函数，接收被装饰函数\n",
    "    def wrapper(*args, **kwargs):  # 装饰器函数的内部函数，接收参数\n",
    "        print(args)\n",
    "        print(kwargs)\n",
    "        print(\"拨号中\")\n",
    "        result = func(*args, **kwargs)\n",
    "        print(f\"通话了{result}分钟\")\n",
    "        print(\"通话结束\")\n",
    "\n",
    "        # return result\n",
    "\n",
    "    return wrapper\n",
    "\n",
    "\n",
    "@decorator\n",
    "def call(user1, user2, time):  # 被装饰的函数，接收参数\n",
    "    print(f\"{user1}和{user2}通话。\")\n",
    "    return time\n",
    "\n",
    "\n",
    "call(\"小明\", \"小红\", time=10)  # 调用被装饰的函数"
   ]
  },
  {
   "cell_type": "markdown",
   "id": "499b81bd",
   "metadata": {},
   "source": [
    "### 抽象类\n"
   ]
  },
  {
   "cell_type": "markdown",
   "id": "cdbe8ee1",
   "metadata": {},
   "source": [
    "有时候我们希望父类只是一个概念和框架，并不需要它可以实体化，那这样的父类是**抽象类**。\n",
    "\n",
    "- 抽象类的目的是 **定义一组通用的接口**，让子类实现具体方法。\n",
    "- Python 通过 **abc（Abstract Base Class）模块** 来实现抽象类。\n",
    "- `@abstractmethod` 是一个装饰器\n"
   ]
  },
  {
   "cell_type": "code",
   "execution_count": 10,
   "id": "751d68ea",
   "metadata": {},
   "outputs": [
    {
     "name": "stdout",
     "output_type": "stream",
     "text": [
      "丧彪汪汪。\n",
      "丧彪吃骨头\n",
      "丧彪在移动。\n"
     ]
    }
   ],
   "source": [
    "from abc import ABC, abstractmethod\n",
    "\n",
    "\n",
    "class Animal(ABC):  # 抽象类的名字叫Animal，继承自ABC抽象类\n",
    "    def __init__(self, name):\n",
    "        self.name = name\n",
    "\n",
    "    # 抽象方法，子类必须实现这个方法\n",
    "    @abstractmethod  # 这一行必须加上，声明是抽象方法。如果没有，则Animal可实例化\n",
    "    def speak(self):  # 定义一个公有方法speak\n",
    "        pass  # 这里是一个抽象方法，子类必须实现这个方法\n",
    "\n",
    "    def _move(self):  # 定义一个保护方法，可被继承\n",
    "        print(f\"{self.name}在移动。\")\n",
    "\n",
    "    def __anounce(self):  # 定义一个私有方法，不能被继承\n",
    "        print(f\"这是Animal类的私有方法。\")\n",
    "\n",
    "\n",
    "# 下面的代码是创建Animal类的实例，不能直接创建抽象类的实例\n",
    "# 去掉注释试一次\n",
    "# dongwu = Animal(\"动物\")\n",
    "# print(dongwu.name)  # 直接获取动物的名字\n",
    "\n",
    "\n",
    "class Dog(Animal):  # 继承Animal类，Animal是父类，Dog是子类\n",
    "    def __init__(self, name):\n",
    "        super().__init__(name)  # super()是一个内置函数，用于调用父类的方法\n",
    "\n",
    "    # 这是对抽象类的抽象方法的实现\n",
    "    # 这里必须实现父类的抽象方法，否则会报错\n",
    "    def speak(self):  # 这是方法重写(Override)\n",
    "        return print(f\"{self.name}汪汪。\")\n",
    "\n",
    "    def eat(self):\n",
    "        print(f\"{self.name}吃骨头\")\n",
    "\n",
    "    # 不写run()也不影响，注释掉尝试一下\n",
    "    # def run(self):\n",
    "    #     super()._move()  # 调用父类的_move方法\n",
    "    #     print(f\"{self.name}飞奔。\")\n",
    "\n",
    "    def testanounce(self):\n",
    "        super().__anounce()  # 无法继承父类的私有方法\n",
    "\n",
    "\n",
    "sangbiao = Dog(\"丧彪\")\n",
    "sangbiao.speak()\n",
    "sangbiao.eat()\n",
    "# sangbiao.run()\n",
    "sangbiao._move()\n",
    "\n",
    "# 去掉注释试一次\n",
    "# sangbiao.testanounce()"
   ]
  },
  {
   "cell_type": "markdown",
   "id": "bc601dd2",
   "metadata": {},
   "source": [
    "## 属性 Property\n"
   ]
  },
  {
   "cell_type": "markdown",
   "id": "3b845e14",
   "metadata": {},
   "source": [
    "`@property` 是 Python 中非常优雅且常用的**属性访问控制器**，它能把一个**方法伪装成属性**使用，同时可以定义**只读属性**或**受控属性**，保证数据的封装性和安全性。\n"
   ]
  },
  {
   "cell_type": "markdown",
   "id": "fffa4389",
   "metadata": {},
   "source": [
    "| **装饰器**   | **作用**                            |\n",
    "| ------------ | ----------------------------------- |\n",
    "| @property    | 定义 getter 方法（**获取**属性值）  |\n",
    "| @xxx.setter  | 定义 setter 方法（**设置**属性值）  |\n",
    "| @xxx.deleter | 定义 deleter 方法（**删除**属性值） |\n"
   ]
  },
  {
   "cell_type": "markdown",
   "id": "03c692fd",
   "metadata": {},
   "source": [
    "- **只读属性**：只写 `@property`，不写 `setter`。\n",
    "- **读写属性**：`@property` + `@xxx.setter`。\n",
    "- **删除属性**：加上 `@xxx.deleter`。\n"
   ]
  },
  {
   "cell_type": "markdown",
   "id": "56cd5d80",
   "metadata": {},
   "source": [
    "| **场景**          | **说明**                                         |\n",
    "| ----------------- | ------------------------------------------------ |\n",
    "| 1. **只读属性**   | 不想让属性被外部修改，例如 身份证号。            |\n",
    "| 2. **数据验证**   | 给属性赋值时做合法性检查。                       |\n",
    "| 3. **懒计算**     | 属性值需要计算且不希望每次都计算（可结合缓存）。 |\n",
    "| 4. **兼容旧接口** | 保持属性访问风格的同时，背后逻辑可以改成函数。   |\n"
   ]
  },
  {
   "cell_type": "markdown",
   "id": "31cca1ab",
   "metadata": {},
   "source": [
    "### **例子**\n"
   ]
  },
  {
   "cell_type": "markdown",
   "id": "f7861e53",
   "metadata": {},
   "source": [
    "写一个类：Circle，我们用半径初始化实例，它有周长和面积。\n"
   ]
  },
  {
   "cell_type": "code",
   "execution_count": 11,
   "id": "e926d1fd",
   "metadata": {},
   "outputs": [
    {
     "name": "stdout",
     "output_type": "stream",
     "text": [
      "半径：5\n",
      "面积：78.53981633974483\n",
      "周长：31.41592653589793\n",
      "新的半径：10\n",
      "新的面积：314.1592653589793\n",
      "新的周长：62.83185307179586\n"
     ]
    }
   ],
   "source": [
    "from math import pi\n",
    "\n",
    "\n",
    "class Circle:\n",
    "    def __init__(self, radius):\n",
    "        self.radius = radius\n",
    "\n",
    "    def area(self):  # 定义一个方法，计算圆的面积\n",
    "        return pi * self.radius**2\n",
    "\n",
    "    def circumference(self):  # 定义一个方法，计算圆的周长\n",
    "        return 2 * pi * self.radius\n",
    "\n",
    "\n",
    "circle = Circle(5)\n",
    "print(f\"半径：{circle.radius}\")  # 获取实例的radius属性\n",
    "print(f\"面积：{circle.area()}\")  # 调用实例的area方法，计算面积\n",
    "print(f\"周长：{circle.circumference()}\")  # 调用实例的circumference方法，计算周长\n",
    "\n",
    "circle.radius = 10  # 修改实例的radius属性\n",
    "print(f\"新的半径：{circle.radius}\")  # 获取实例的radius属性\n",
    "print(f\"新的面积：{circle.area()}\")  # 调用实例的area方法，计算新的面积\n",
    "print(\n",
    "    f\"新的周长：{circle.circumference()}\"\n",
    ")  # 调用实例的circumference方法，计算新的周长"
   ]
  },
  {
   "cell_type": "markdown",
   "id": "13d5c1bc",
   "metadata": {},
   "source": [
    "现在我们想把面积和周长也设为像半径一样的属性。\n",
    "\n",
    "除了在初始化的时候就计算，也可以用`@property`的方法来实现：不用每次访问的时候都重复计算\n"
   ]
  },
  {
   "cell_type": "code",
   "execution_count": 12,
   "id": "5e07d6e6",
   "metadata": {},
   "outputs": [
    {
     "name": "stdout",
     "output_type": "stream",
     "text": [
      "半径：5\n",
      "面积：78.53981633974483\n",
      "周长：31.41592653589793\n",
      "新的半径：10\n",
      "新的面积：314.1592653589793\n",
      "新的周长：62.83185307179586\n"
     ]
    }
   ],
   "source": [
    "from math import pi\n",
    "\n",
    "\n",
    "class Circle:\n",
    "    def __init__(self, radius):\n",
    "        self.radius = radius\n",
    "\n",
    "    @property\n",
    "    def area(self):  # 定义一个属性，计算圆的面积\n",
    "        return pi * self.radius**2\n",
    "\n",
    "    @property\n",
    "    def circumference(self):  # 定义一个属性，计算圆的周长\n",
    "        return 2 * pi * self.radius\n",
    "\n",
    "\n",
    "circle = Circle(5)\n",
    "print(f\"半径：{circle.radius}\")  # 获取实例的radius属性\n",
    "print(f\"面积：{circle.area}\")  # 调用实例的area属性，计算面积，不用加括号\n",
    "print(\n",
    "    f\"周长：{circle.circumference}\"\n",
    ")  # 调用实例的circumference属性，计算周长，不用加括号\n",
    "circle.radius = 10  # 修改实例的radius属性\n",
    "print(f\"新的半径：{circle.radius}\")  # 获取实例的radius属性\n",
    "print(f\"新的面积：{circle.area}\")  # 调用实例的area属性，计算新的面积\n",
    "print(f\"新的周长：{circle.circumference}\")  # 调用实例的circumference属性，计算新的周长"
   ]
  },
  {
   "cell_type": "markdown",
   "id": "58527805",
   "metadata": {},
   "source": [
    "我们现在希望圆的半径不会被随意更改，我们就需要把半径作为**属性**保护起来，只可被**读取**，不可被**更改**。\n"
   ]
  },
  {
   "cell_type": "code",
   "execution_count": 13,
   "id": "187442a0",
   "metadata": {},
   "outputs": [
    {
     "name": "stdout",
     "output_type": "stream",
     "text": [
      "半径：5\n",
      "半径：5\n",
      "计算面积\n",
      "面积：78.53981633974483\n",
      "计算周长\n",
      "周长：31.41592653589793\n",
      "新的半径：10\n"
     ]
    }
   ],
   "source": [
    "from math import pi\n",
    "\n",
    "\n",
    "class Circle:\n",
    "    def __init__(self, radius):\n",
    "        self._radius = radius  # 使用保护命名，表示这个属性是保护的，不建议直接访问\n",
    "\n",
    "    @property\n",
    "    def radius(self):  # 定义一个属性，获取半径，提供被读取的接口\n",
    "        return self._radius\n",
    "\n",
    "    @property\n",
    "    def area(self):  # 定义一个属性，计算圆的面积\n",
    "        print(\"计算面积\")\n",
    "        return pi * self.radius**2\n",
    "\n",
    "    @property\n",
    "    def circumference(self):  # 定义一个属性，计算圆的周长\n",
    "        print(\"计算周长\")\n",
    "        return 2 * pi * self.radius\n",
    "\n",
    "\n",
    "circle = Circle(5)  # 创建一个Circle类的实例，半径为5\n",
    "print(f\"半径：{circle.radius}\")  # 获取实例的radius属性\n",
    "print(f\"半径：{circle._radius}\")  # 直接访问实例的_radius属性（不推荐）\n",
    "print(f\"面积：{circle.area}\")  # 调用实例的area属性，计算面积\n",
    "print(f\"周长：{circle.circumference}\")  # 调用实例的circumference属性，计算周长\n",
    "\n",
    "circle._radius = 10  # 修改实例的_radius属性（不推荐）\n",
    "print(f\"新的半径：{circle.radius}\")  # 获取实例的radius属性\n",
    "\n",
    "# 去掉注释试一次\n",
    "# circle.radius = 10  # 修改实例的radius属性，会报错\n",
    "# print(f\"新的半径：{circle.radius}\")  # 获取实例的radius属性"
   ]
  },
  {
   "cell_type": "markdown",
   "id": "dc00e30a",
   "metadata": {},
   "source": [
    "我们现在希望半径**作为属性**可以被**读取**和被**更改**，就要用到`@xxx.setter`来实现。\n",
    "\n",
    "`@xxx.setter`还能实现**验证数据**的功能。\n"
   ]
  },
  {
   "cell_type": "code",
   "execution_count": 14,
   "id": "4c319a76",
   "metadata": {},
   "outputs": [
    {
     "name": "stdout",
     "output_type": "stream",
     "text": [
      "半径：5\n",
      "计算面积\n",
      "面积：78.53981633974483\n",
      "计算周长\n",
      "周长：31.41592653589793\n",
      "设置半径\n",
      "新的半径：10\n",
      "计算面积\n",
      "新的面积：314.1592653589793\n",
      "计算面积\n",
      "314.1592653589793\n",
      "计算周长\n",
      "新的周长：62.83185307179586\n",
      "半径已被删除\n",
      "圆\n"
     ]
    }
   ],
   "source": [
    "from math import pi\n",
    "\n",
    "\n",
    "class Circle:\n",
    "    def __init__(self, radius):\n",
    "        self._radius = radius  # 使用保护命名，表示这个属性是保护的，不建议直接访问\n",
    "        self.name = \"圆\"  # 定义一个公有属性，名字为圆\n",
    "\n",
    "    @property\n",
    "    def radius(self):  # 定义一个属性，获取半径，提供被读取的接口\n",
    "        return self._radius\n",
    "\n",
    "    @radius.setter\n",
    "    def radius(\n",
    "        self, value\n",
    "    ):  # 定义一个属性，设置半径，提供被修改的接口。函数名可以自定义，但一般与属性名相同\n",
    "        if value <= 0:  # 如果半径小于等于0，则抛出异常\n",
    "            raise ValueError(\"半径必须大于0\")\n",
    "        print(\"设置半径\")\n",
    "        self._radius = value  # 设置半径\n",
    "        # 这里使用保护命名，表示这个属性是保护的，不建议直接访问\n",
    "\n",
    "    @radius.deleter\n",
    "    def radius(\n",
    "        self,\n",
    "    ):  # 定义一个属性，删除半径，提供被删除的接口。函数名可以自定义，但一般与属性名相同\n",
    "        del self._radius  # 删除半径\n",
    "        print(\"半径已被删除\")  # 打印提示信息\n",
    "\n",
    "    @property\n",
    "    def area(self):  # 定义一个属性，计算圆的面积\n",
    "        print(\"计算面积\")\n",
    "        return pi * self.radius**2\n",
    "\n",
    "    @property\n",
    "    def circumference(self):  # 定义一个属性，计算圆的周长\n",
    "        print(\"计算周长\")\n",
    "        return 2 * pi * self.radius\n",
    "\n",
    "\n",
    "circle = Circle(5)  # 创建一个Circle类的实例，半径为5\n",
    "print(f\"半径：{circle.radius}\")  # 获取实例的radius属性\n",
    "print(f\"面积：{circle.area}\")  # 调用实例的area属性，计算面积\n",
    "print(f\"周长：{circle.circumference}\")  # 调用实例的circumference属性，计算周长\n",
    "\n",
    "\n",
    "circle.radius = 10  # 修改实例的radius属性\n",
    "print(f\"新的半径：{circle.radius}\")  # 获取实例的radius属性\n",
    "print(f\"新的面积：{circle.area}\")  # 调用实例的area属性，计算新的面积\n",
    "print(circle.area)  # 调用实例的area属性，计算面积\n",
    "print(f\"新的周长：{circle.circumference}\")  # 调用实例的circumference属性，计算新的周长\n",
    "\n",
    "# 去掉注释试一次\n",
    "# circle.set_radius = 0  # 修改实例的radius属性，会报错\n",
    "\n",
    "del circle.radius  # 删除实例的radius属性，释放内存\n",
    "print(circle.name)  # 获取实例的name属性，说明实例仍然存在\n",
    "# print(f\"半径：{circle.radius}\")  # 获取实例的radius属性"
   ]
  },
  {
   "cell_type": "markdown",
   "id": "60d9bfc0",
   "metadata": {},
   "source": [
    "## 高阶使用\n"
   ]
  },
  {
   "cell_type": "markdown",
   "id": "28a349b8",
   "metadata": {},
   "source": [
    "### 抽象类和属性共同使用\n"
   ]
  },
  {
   "cell_type": "markdown",
   "id": "a2bb5851",
   "metadata": {},
   "source": [
    "我们定义一个抽象类：Shape，图形有周长和面积，具体的图形有各自算周长和面积的方法，则由子类定义。其中周长，面积都设为属性。\n"
   ]
  },
  {
   "cell_type": "code",
   "execution_count": 15,
   "id": "0157ce72",
   "metadata": {},
   "outputs": [],
   "source": [
    "from abc import ABC, abstractmethod\n",
    "\n",
    "\n",
    "class Shape(ABC):  # 抽象类的名字叫Shape，继承自ABC抽象类\n",
    "    @property\n",
    "    @abstractmethod\n",
    "    def area(self):  # 抽象方法，子类必须实现这个方法\n",
    "        pass  # 这里是一个抽象方法，子类必须实现这个方法\n",
    "\n",
    "    @property\n",
    "    @abstractmethod\n",
    "    def circumference(self):  # 抽象方法，子类必须实现这个方法\n",
    "        pass  # 这里是一个抽象方法，子类必须实现这个方法"
   ]
  },
  {
   "cell_type": "markdown",
   "id": "db555f8f",
   "metadata": {},
   "source": [
    "**特别注意！！！**\n",
    "\n",
    "```\n",
    "@property\n",
    "@abstractmethod\n",
    "def area(self):\n",
    "```\n",
    "\n",
    "这里有两个装饰器，执行顺序是从`def`往上执行的，上面的代码则把`area`定义为一个抽象**属性**；若反过来，先`@abstractmethod`再`@property`则是定义为一个抽象**方法**。\n"
   ]
  },
  {
   "cell_type": "code",
   "execution_count": 16,
   "id": "beff81e6",
   "metadata": {},
   "outputs": [],
   "source": [
    "from math import pi\n",
    "\n",
    "\n",
    "class Circle(Shape):  # 继承Shape类，Shape是父类，Circle是子类\n",
    "    def __init__(self, radius):\n",
    "        self._radius = radius  # 使用保护命名，表示这个属性是保护的，不建议直接访问\n",
    "        self.name = \"圆\"  # 定义一个公有属性，名字为圆\n",
    "\n",
    "    @property\n",
    "    def radius(self):  # 定义一个属性，获取半径，提供被读取的接口\n",
    "        return self._radius\n",
    "\n",
    "    @radius.setter\n",
    "    def radius(\n",
    "        self, value\n",
    "    ):  # 定义一个属性，设置半径，提供被修改的接口。函数名可以自定义，但一般与属性名相同\n",
    "        if value <= 0:  # 如果半径小于等于0，则抛出异常\n",
    "            raise ValueError(\"半径必须大于0\")\n",
    "        print(\"设置半径\")\n",
    "        self._radius = value  # 设置半径\n",
    "        # 这里使用保护命名，表示这个属性是保护的，不建议直接访问\n",
    "\n",
    "    @property\n",
    "    def area(self):  # 定义一个属性，计算圆的面积\n",
    "        print(\"计算面积\")\n",
    "        return pi * self._radius**2\n",
    "\n",
    "    @property\n",
    "    def circumference(self):  # 定义一个属性，计算圆的周长\n",
    "        print(\"计算周长\")\n",
    "        return 2 * pi * self._radius"
   ]
  },
  {
   "cell_type": "code",
   "execution_count": 17,
   "id": "5d32694e",
   "metadata": {},
   "outputs": [
    {
     "name": "stdout",
     "output_type": "stream",
     "text": [
      "圆的半径：5\n",
      "计算周长\n",
      "圆的周长：31.41592653589793\n"
     ]
    }
   ],
   "source": [
    "circle = Circle(5)  # 创建一个Circle类的实例，半径为5\n",
    "print(f\"圆的半径：{circle.radius}\")  # 获取实例的radius属性\n",
    "# print(f\"圆的面积：{circle.area}\")  # 调用实例的area属性，计算面积\n",
    "print(f\"圆的周长：{circle.circumference}\")  # 调用实例的circumference属性，计算周长"
   ]
  },
  {
   "cell_type": "code",
   "execution_count": 18,
   "id": "0486cf9a",
   "metadata": {},
   "outputs": [],
   "source": [
    "class Rectangle(Shape):  # 继承Shape类，Shape是父类，Rectangle是子类\n",
    "    def __init__(self, width, height):\n",
    "        self._width = width  # 使用保护命名，表示这个属性是保护的，不建议直接访问\n",
    "        self._height = height  # 使用保护命名，表示这个属性是保护的，不建议直接访问\n",
    "        self.name = \"矩形\"  # 定义一个公有属性，名字为矩形\n",
    "\n",
    "    @property\n",
    "    def width(self):  # 定义一个属性，获取宽度，提供被读取的接口\n",
    "        return self._width\n",
    "\n",
    "    @width.setter\n",
    "    def width(\n",
    "        self, value\n",
    "    ):  # 定义一个属性，设置宽度，提供被修改的接口。函数名可以自定义，但一般与属性名相同\n",
    "        if value <= 0:  # 如果宽度小于等于0，则抛出异常\n",
    "            raise ValueError(\"宽度必须大于0\")\n",
    "        print(\"设置宽度\")\n",
    "        self._width = value  # 设置宽度\n",
    "        # 这里使用保护命名，表示这个属性是保护的，不建议直接访问\n",
    "\n",
    "    @property\n",
    "    def height(self):  # 定义一个属性，获取高度，提供被读取的接口\n",
    "        return self._height\n",
    "\n",
    "    @height.setter\n",
    "    def height(\n",
    "        self, value\n",
    "    ):  # 定义一个属性，设置高度，提供被修改的接口。函数名可以自定义，但一般与属性名相同\n",
    "        if value <= 0:  # 如果高度小于等于0，则抛出异常\n",
    "            raise ValueError(\"高度必须大于0\")\n",
    "        print(\"设置高度\")\n",
    "        self._height = value  # 设置高度\n",
    "        # 这里使用保护命名，表示这个属性是保护的，不建议直接访问\n",
    "\n",
    "    @property\n",
    "    def area(self):  # 定义一个属性，计算矩形的面积\n",
    "        print(\"计算面积\")\n",
    "        return self._width * self._height\n",
    "\n",
    "    @property\n",
    "    def circumference(self):  # 定义一个属性，计算矩形的周长\n",
    "        print(\"计算周长\")\n",
    "        return 2 * (self._width + self._height)"
   ]
  },
  {
   "cell_type": "code",
   "execution_count": 19,
   "id": "d7664fcf",
   "metadata": {},
   "outputs": [
    {
     "name": "stdout",
     "output_type": "stream",
     "text": [
      "矩形的宽度：3\n",
      "矩形的高度：4\n",
      "计算面积\n",
      "矩形的面积：12\n",
      "计算周长\n",
      "矩形的周长：14\n"
     ]
    }
   ],
   "source": [
    "rectangle = Rectangle(3, 4)  # 创建一个Rectangle类的实例，宽度为3，高度为4\n",
    "print(f\"矩形的宽度：{rectangle.width}\")  # 获取实例的width属性\n",
    "print(f\"矩形的高度：{rectangle.height}\")  # 获取实例的height属性\n",
    "print(f\"矩形的面积：{rectangle.area}\")  # 调用实例的area属性，计算面积\n",
    "print(f\"矩形的周长：{rectangle.circumference}\")  # 调用实例的circumference属性，计算周长"
   ]
  },
  {
   "cell_type": "code",
   "execution_count": 20,
   "id": "4c470029",
   "metadata": {},
   "outputs": [],
   "source": [
    "class Triangle(Shape):  # 继承Shape类，Shape是父类，Triangle是子类\n",
    "    def __init__(self, a, b, c):\n",
    "        self._a = a\n",
    "        self._b = b\n",
    "        self._c = c\n",
    "        self.name = \"三角形\"\n",
    "        if a <= 0 or b <= 0 or c <= 0 or a + b <= c or a + c <= b or b + c <= a:\n",
    "            raise ValueError(\"三角形的边长必须大于0，且两边之和必须大于第三边\")\n",
    "\n",
    "    @property\n",
    "    def a(self):  # 定义一个属性，获取边长a，提供被读取的接口\n",
    "        return self._a\n",
    "\n",
    "    @a.setter\n",
    "    def a(\n",
    "        self, value\n",
    "    ):  # 定义一个属性，设置边长a，提供被修改的接口。函数名可以自定义，但一般与属性名相同\n",
    "        if value <= 0:  # 如果边长小于等于0，则抛出异常\n",
    "            raise ValueError(\"边长必须大于0\")\n",
    "        elif (\n",
    "            value + self._b <= self._c\n",
    "            or value + self._c <= self._b\n",
    "            or self._b + self._c <= value\n",
    "        ):\n",
    "            # 如果三角形的两边之和小于等于第三边，则抛出异常\n",
    "            raise ValueError(\"三角形的两边之和必须大于第三边\")\n",
    "\n",
    "        print(\"设置边长a\")\n",
    "        self._a = value  # 设置边长a\n",
    "\n",
    "    @property\n",
    "    def b(self):  # 定义一个属性，获取边长b，提供被读取的接口\n",
    "        return self._b\n",
    "\n",
    "    @b.setter\n",
    "    def b(\n",
    "        self, value\n",
    "    ):  # 定义一个属性，设置边长b，提供被修改的接口。函数名可以自定义，但一般与属性名相同\n",
    "        if value <= 0:  # 如果边长小于等于0，则抛出异常\n",
    "            raise ValueError(\"边长必须大于0\")\n",
    "        elif (\n",
    "            value + self._a <= self._c\n",
    "            or value + self._c <= self._a\n",
    "            or self._a + self._c <= value\n",
    "        ):\n",
    "            # 如果三角形的两边之和小于等于第三边，则抛出异常\n",
    "            raise ValueError(\"三角形的两边之和必须大于第三边\")\n",
    "\n",
    "        print(\"设置边长b\")\n",
    "        self._b = value  # 设置边长b\n",
    "\n",
    "    @property\n",
    "    def c(self):  # 定义一个属性，获取边长c，提供被读取的接口\n",
    "        return self._c\n",
    "\n",
    "    @c.setter\n",
    "    def c(\n",
    "        self, value\n",
    "    ):  # 定义一个属性，设置边长c，提供被修改的接口。函数名可以自定义，但一般与属性名相同\n",
    "        if value <= 0:  # 如果边长小于等于0，则抛出异常\n",
    "            raise ValueError(\"边长必须大于0\")\n",
    "        elif (\n",
    "            value + self._b <= self._a\n",
    "            or value + self._a <= self._b\n",
    "            or self._b + self._a <= value\n",
    "        ):\n",
    "            # 如果三角形的两边之和小于等于第三边，则抛出异常\n",
    "            raise ValueError(\"三角形的两边之和必须大于第三边\")\n",
    "\n",
    "        print(\"设置边长c\")\n",
    "        self._c = value  # 设置边长c\n",
    "\n",
    "    @property\n",
    "    def circumference(self):\n",
    "        print(\"计算周长\")\n",
    "        return self._a + self._b + self._c\n",
    "\n",
    "    @property\n",
    "    def area(self):\n",
    "        print(\"计算面积\")\n",
    "        s = self.circumference / 2  # 海伦公式\n",
    "        return (s * (s - self._a) * (s - self._b) * (s - self._c)) ** 0.5"
   ]
  },
  {
   "cell_type": "code",
   "execution_count": 21,
   "id": "e05b179c",
   "metadata": {},
   "outputs": [
    {
     "name": "stdout",
     "output_type": "stream",
     "text": [
      "三角形的边长a：3\n",
      "三角形的边长b：4\n",
      "三角形的边长c：5\n",
      "计算周长\n",
      "三角形的周长：12\n",
      "计算面积\n",
      "计算周长\n",
      "三角形的面积：6.0\n",
      "设置边长a\n"
     ]
    }
   ],
   "source": [
    "triangle = Triangle(3, 4, 5)  # 创建一个Triangle类的实例，边长为3，4，5\n",
    "print(f\"三角形的边长a：{triangle.a}\")  # 获取实例的a属性\n",
    "print(f\"三角形的边长b：{triangle.b}\")  # 获取实例的b属性\n",
    "print(f\"三角形的边长c：{triangle.c}\")  # 获取实例的c属性\n",
    "print(\n",
    "    f\"三角形的周长：{triangle.circumference}\"\n",
    ")  # 调用实例的circumference属性，计算周长\n",
    "print(f\"三角形的面积：{triangle.area}\")  # 调用实例的area属性，计算面积\n",
    "triangle.a = 5  # 修改实例的a属性"
   ]
  },
  {
   "cell_type": "markdown",
   "id": "ad3a62a4",
   "metadata": {},
   "source": [
    "### 类方法 & 静态方法\n"
   ]
  },
  {
   "cell_type": "markdown",
   "id": "51c3f70e",
   "metadata": {},
   "source": [
    "上面讲述的都是**实例方法**，还有**类方法**和**静态方法**，以下是区别：\n",
    "\n",
    "- 实例方法：\n",
    "  - 第一个参数是`self`，代表当前实例对象。\n",
    "  - 可以访问**实例变量**、**类变量**、调用类中其他方法。\n",
    "  - 默认不加装饰器。\n",
    "- 类方法：\n",
    "  - 第一个参数是`cls`，代表当前类本身，而不是对象。\n",
    "  - 可以访问/修改**类变量**。\n",
    "  - 使用`@classmethod`装饰。\n",
    "- 静态方法：\n",
    "  - 没有`self`或`cls`参数。\n",
    "  - 和类绑定，但不能访问实例或类的数据。\n",
    "  - 使用`@staticmethod`装饰。\n"
   ]
  },
  {
   "cell_type": "markdown",
   "id": "91909687",
   "metadata": {},
   "source": [
    "#### 类方法例子\n"
   ]
  },
  {
   "cell_type": "code",
   "execution_count": 22,
   "id": "4ca8ca57",
   "metadata": {},
   "outputs": [
    {
     "name": "stdout",
     "output_type": "stream",
     "text": [
      "['柴犬', '哈士奇', '金毛']\n",
      "小白\n",
      "3\n",
      "None\n",
      "柴犬\n",
      "['柴犬', '哈士奇', '金毛']\n",
      "狗的现有品种为：['柴犬', '哈士奇', '金毛', '拉布拉多']\n",
      "['柴犬', '哈士奇', '金毛', '拉布拉多']\n",
      "小黑\n",
      "2\n"
     ]
    }
   ],
   "source": [
    "class Dog:\n",
    "    cls_species = [\"柴犬\", \"哈士奇\", \"金毛\"]  # 定义一个类属性，表示狗的品种\n",
    "\n",
    "    def __init__(self, name, age):\n",
    "        self.name = name\n",
    "        self.age = age\n",
    "        self.__species = None\n",
    "\n",
    "    @property\n",
    "    def species(self):  # 定义一个属性，获取狗的品种\n",
    "        return self.__species\n",
    "\n",
    "    @species.setter\n",
    "    def species(self, species):  # 定义一个属性，设置狗的品种\n",
    "        if species in Dog.cls_species:\n",
    "            self.__species = species\n",
    "        else:\n",
    "            raise ValueError(f\"狗的品种必须是：{Dog.cls_species}\")\n",
    "\n",
    "    @classmethod\n",
    "    def get_cls_species(cls):  # 定义一个类方法，获取狗的品种\n",
    "        return cls.cls_species\n",
    "\n",
    "    @classmethod\n",
    "    def add_species(cls, species):  # 定义一个类方法，添加狗的品种\n",
    "        cls.cls_species.append(species)\n",
    "        print(f\"狗的现有品种为：{cls.cls_species}\")\n",
    "\n",
    "\n",
    "print(Dog.get_cls_species())  # 调用类方法，获取狗的品种。不用实例化对象\n",
    "dog1 = Dog(\"小白\", 3)  # 创建一个Dog类的实例，名字为小白，年龄为3\n",
    "print(dog1.name)  # 获取实例的name属性\n",
    "print(dog1.age)  # 获取实例的age属性\n",
    "print(dog1.species)  # 获取实例的species属性\n",
    "dog1.species = \"柴犬\"  # 设置实例的species属性\n",
    "print(dog1.species)  # 获取实例的species属性\n",
    "print(dog1.get_cls_species())  # 调用类方法，获取狗的品种，实例可以调用类方法\n",
    "Dog.add_species(\"拉布拉多\")  # 调用类方法，添加狗的品种\n",
    "print(Dog.get_cls_species())  # 调用类方法，获取狗的品种\n",
    "dog2 = Dog(\"小黑\", 2)  # 创建一个Dog类的实例，名字为小黑，年龄为2\n",
    "print(dog2.name)  # 获取实例的name属性\n",
    "print(dog2.age)  # 获取实例的age属性\n",
    "# 注释掉下面一行试一次\n",
    "# dog2.species='边牧'  # 会报错"
   ]
  },
  {
   "cell_type": "code",
   "execution_count": 23,
   "id": "a0597ea5",
   "metadata": {},
   "outputs": [
    {
     "name": "stdout",
     "output_type": "stream",
     "text": [
      "小明\n",
      "23\n",
      "小红\n",
      "68\n"
     ]
    }
   ],
   "source": [
    "class Student:\n",
    "    def __init__(self, name, id):\n",
    "        self.__name = name\n",
    "        self.__id = id\n",
    "\n",
    "    @property\n",
    "    def name(self):  # 定义一个属性，获取学生的名字\n",
    "        return self.__name\n",
    "\n",
    "    @property\n",
    "    def id(self):  # 定义一个属性，获取学生的学号\n",
    "        return self.__id\n",
    "\n",
    "    @classmethod\n",
    "    def from_input(cls):  # 定义一个类方法，创建学生对象\n",
    "        name = input(\"请输入学生的名字：\")\n",
    "        id = input(\"请输入学生的学号：\")\n",
    "        return cls(name, id)  # 返回一个Student类的实例\n",
    "\n",
    "    @classmethod\n",
    "    def from_string(cls, string):\n",
    "        name, id = string.split(\",\")\n",
    "        return cls(name, id)\n",
    "\n",
    "\n",
    "xiaoming = Student.from_input()  # 创建一个Student类的实例\n",
    "print(xiaoming.name)  # 获取小明的名字\n",
    "print(xiaoming.id)  # 获取小明的学号\n",
    "xiaohong = Student.from_string(\"小红,68\")  # 创建一个Student类的实例\n",
    "print(xiaohong.name)  # 获取小红的名字\n",
    "print(xiaohong.id)  # 获取小红的学号"
   ]
  },
  {
   "cell_type": "markdown",
   "id": "b784207e",
   "metadata": {},
   "source": [
    "#### 静态方法例子\n"
   ]
  },
  {
   "cell_type": "code",
   "execution_count": 24,
   "id": "5061e1da",
   "metadata": {},
   "outputs": [
    {
     "name": "stdout",
     "output_type": "stream",
     "text": [
      "12\n",
      "8\n",
      "20\n",
      "5.0\n"
     ]
    }
   ],
   "source": [
    "# 静态方法更像是一个普通函数，但它属于类的命名空间。不能对类或实例进行操作\n",
    "class My_Calculator:\n",
    "    @staticmethod\n",
    "    def add(x, y):  # 定义一个静态方法，计算两个数的和\n",
    "        return x + y\n",
    "\n",
    "    @staticmethod\n",
    "    def subtract(x, y):  # 定义一个静态方法，计算两个数的差\n",
    "        return x - y\n",
    "\n",
    "    @staticmethod\n",
    "    def multiply(x, y):  # 定义一个静态方法，计算两个数的积\n",
    "        return x * y\n",
    "\n",
    "    @staticmethod\n",
    "    def divide(x, y):  # 定义一个静态方法，计算两个数的商\n",
    "        if y == 0:  # 如果除数为0，则抛出异常\n",
    "            raise ValueError(\"除数不能为0\")\n",
    "        return x / y\n",
    "\n",
    "    @staticmethod\n",
    "    def power(x, y):  # 定义一个静态方法，计算x的y次方\n",
    "        return x**y\n",
    "\n",
    "\n",
    "a = 10\n",
    "b = 2\n",
    "print(My_Calculator.add(a, b))  # 调用静态方法，计算两个数的和\n",
    "print(My_Calculator.subtract(a, b))  # 调用静态方法，计算两个数的差\n",
    "print(My_Calculator.multiply(a, b))  # 调用静态方法，计算两个数的积\n",
    "print(My_Calculator.divide(a, b))  # 调用静态方法，计算两个数的商"
   ]
  },
  {
   "cell_type": "markdown",
   "id": "4da816bd",
   "metadata": {},
   "source": [
    "### 引用\n"
   ]
  },
  {
   "cell_type": "markdown",
   "id": "095cad9f",
   "metadata": {},
   "source": [
    "为了更好地归类和使用函数和类，我们的类或者函数可以写在一个单独的`.py`文件中。\n",
    "\n",
    "例如文件目录中的[`module_example.py`](module_example.py)中写了一个类：`My_Calculator_test`。\n",
    "\n",
    "我们想在这里调用这个工具，就可以这么操作：\n"
   ]
  },
  {
   "cell_type": "code",
   "execution_count": 25,
   "id": "831cf12b",
   "metadata": {},
   "outputs": [
    {
     "name": "stdout",
     "output_type": "stream",
     "text": [
      "12\n"
     ]
    }
   ],
   "source": [
    "# 从module_example导入My_Calculator_test类\n",
    "# 注意：这里的module_example是一个模块名，My_Calculator_test是类名\n",
    "# 你需要根据实际情况修改模块名和类名\n",
    "from module_example import My_Calculator_test as mycal\n",
    "\n",
    "# 这个引用方式有没有让你想起pandas的使用？ pandas, DataFrame, pd\n",
    "print(mycal.add(10, 2))  # 调用静态方法，计算两个数的和"
   ]
  },
  {
   "cell_type": "markdown",
   "id": "18df95aa",
   "metadata": {},
   "source": [
    "[`my_func.py`](my_func.py)中写了一个函数：`dou_teach`\n"
   ]
  },
  {
   "cell_type": "code",
   "execution_count": 26,
   "id": "0299226b",
   "metadata": {},
   "outputs": [
    {
     "name": "stdout",
     "output_type": "stream",
     "text": [
      "这是my_func.py中的dou_teach函数\n"
     ]
    }
   ],
   "source": [
    "from my_func import dou_teach\n",
    "\n",
    "dou_teach()"
   ]
  }
 ],
 "metadata": {
  "kernelspec": {
   "display_name": ".venv",
   "language": "python",
   "name": "python3"
  },
  "language_info": {
   "codemirror_mode": {
    "name": "ipython",
    "version": 3
   },
   "file_extension": ".py",
   "mimetype": "text/x-python",
   "name": "python",
   "nbconvert_exporter": "python",
   "pygments_lexer": "ipython3",
   "version": "3.12.7"
  }
 },
 "nbformat": 4,
 "nbformat_minor": 5
}
